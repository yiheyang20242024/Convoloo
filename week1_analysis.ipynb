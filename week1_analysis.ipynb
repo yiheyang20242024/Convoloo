{
 "cells": [
  {
   "cell_type": "code",
   "execution_count": null,
   "id": "24fa42bf",
   "metadata": {},
   "outputs": [],
   "source": [
    "# 第一个单元格：导入库\n",
    "import numpy as np\n",
    "import pandas as pd\n",
    "import scanpy as sc\n",
    "import anndata as ad\n",
    "from scipy.io import mmread\n",
    "import matplotlib.pyplot as plt\n",
    "import seaborn as sns\n",
    "\n",
    "# 设置绘图风格\n",
    "sc.settings.set_figure_params(dpi=100, facecolor='white')\n",
    "%matplotlib inline"
   ]
  },
  {
   "cell_type": "code",
   "execution_count": null,
   "id": "585de96d",
   "metadata": {},
   "outputs": [],
   "source": [
    "# 第二个单元格：读取数据\n",
    "# 1. 读取矩阵文件\n",
    "matrix = mmread('rejoined_exp_matrix.mtx').T\n",
    "print(f\"矩阵形状: {matrix.shape}\")\n",
    "\n",
    "# 2. 读取细胞ID\n",
    "cell_ids = pd.read_csv('Cells_Genes_Meta/cell_ids.tsv', sep='\\t', header=None, names=['cell_barcode'])\n",
    "print(f\"细胞ID数量: {len(cell_ids)}\")\n",
    "\n",
    "# 3. 读取基因ID\n",
    "gene_ids = pd.read_csv('Cells_Genes_Meta/gene_ids.tsv', sep='\\t', header=None, names=['gene_id'])\n",
    "print(f\"基因ID数量: {len(gene_ids)}\")\n",
    "\n",
    "# 4. 读取元数据\n",
    "metadata = pd.read_csv('Cells_Genes_Meta/exp_meta.csv')\n",
    "print(f\"元数据形状: {metadata.shape}\")"
   ]
  }
 ],
 "metadata": {
  "kernelspec": {
   "display_name": ".conda",
   "language": "python",
   "name": "python3"
  },
  "language_info": {
   "name": "python",
   "version": "3.11.13"
  }
 },
 "nbformat": 4,
 "nbformat_minor": 5
}
